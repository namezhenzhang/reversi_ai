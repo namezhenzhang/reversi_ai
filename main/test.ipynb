{
 "cells": [
  {
   "cell_type": "code",
   "execution_count": 2,
   "source": [
    "type(0x1 << 24)"
   ],
   "outputs": [
    {
     "output_type": "execute_result",
     "data": {
      "text/plain": [
       "int"
      ]
     },
     "metadata": {},
     "execution_count": 2
    }
   ],
   "metadata": {}
  },
  {
   "cell_type": "code",
   "execution_count": null,
   "source": [
    "blank_board = [\r\n",
    "            0,-8,0,0,0,0,-8,0,\r\n",
    "            -8,-6,0,0,0,0,-6,-8,\r\n",
    "            0,0,0,0,0,0,0,0,\r\n",
    "            0,0,0,0,0,0,0,0,\r\n",
    "            0,0,0,0,0,0,0,0,\r\n",
    "            0,0,0,0,0,0,0,0,\r\n",
    "            -8,-6,0,0,0,0,-6,-8,\r\n",
    "            0,-8,0,0,0,0,-8,0\r\n",
    "        ]"
   ],
   "outputs": [],
   "metadata": {}
  }
 ],
 "metadata": {
  "orig_nbformat": 4,
  "language_info": {
   "name": "python",
   "version": "3.6.13",
   "mimetype": "text/x-python",
   "codemirror_mode": {
    "name": "ipython",
    "version": 3
   },
   "pygments_lexer": "ipython3",
   "nbconvert_exporter": "python",
   "file_extension": ".py"
  },
  "kernelspec": {
   "name": "python3",
   "display_name": "Python 3.6.13 64-bit ('bert_env': conda)"
  },
  "interpreter": {
   "hash": "84f9d3da7fc2cd7fd587774ee8ec7edde57442658154a2ae712d933a2b905f25"
  }
 },
 "nbformat": 4,
 "nbformat_minor": 2
}