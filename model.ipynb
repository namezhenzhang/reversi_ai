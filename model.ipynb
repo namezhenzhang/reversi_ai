{
 "cells": [
  {
   "cell_type": "code",
   "execution_count": 13,
   "source": [
    "import numpy as np\n",
    "\n",
    "a= np.array([[1,2],[3,4]])\n",
    "b =np.array([1,2])\n",
    "(a.T*b).T"
   ],
   "outputs": [
    {
     "output_type": "execute_result",
     "data": {
      "text/plain": [
       "array([[1, 2],\n",
       "       [6, 8]])"
      ]
     },
     "metadata": {},
     "execution_count": 13
    }
   ],
   "metadata": {}
  },
  {
   "cell_type": "code",
   "execution_count": 2,
   "source": [
    "import torch\n",
    "a = torch.Tensor(   [[1,2,3],\n",
    "                    [4,5,6]])\n",
    "b = torch.Tensor([1,-1,0])\n",
    "torch.cat((a,a),dim = 1)\n"
   ],
   "outputs": [
    {
     "output_type": "execute_result",
     "data": {
      "text/plain": [
       "tensor([[1., 2., 3., 1., 2., 3.],\n",
       "        [4., 5., 6., 4., 5., 6.]])"
      ]
     },
     "metadata": {},
     "execution_count": 2
    }
   ],
   "metadata": {}
  },
  {
   "cell_type": "code",
   "execution_count": 10,
   "source": [
    "w1 = torch.nn.Parameter(torch.randn(10,64), requires_grad=True)"
   ],
   "outputs": [],
   "metadata": {}
  },
  {
   "cell_type": "code",
   "execution_count": 29,
   "source": [
    "a = torch.rand(10,64)\n",
    "b = torch.rand(10,64)\n",
    "c = a.T @ b\n",
    "c.shape\n",
    "import torch.nn.functional as F\n",
    "d = torch.Tensor([[1,2],[3,4]])\n",
    "e = F.softmax(c,dim = 1)\n",
    "e[0].sum()"
   ],
   "outputs": [
    {
     "output_type": "execute_result",
     "data": {
      "text/plain": [
       "tensor(1.)"
      ]
     },
     "metadata": {},
     "execution_count": 29
    }
   ],
   "metadata": {}
  },
  {
   "cell_type": "code",
   "execution_count": 8,
   "source": [
    "a = torch.Tensor([1,2,3,4,5,6])\n",
    "b = torch.Tensor([1])"
   ],
   "outputs": [],
   "metadata": {}
  },
  {
   "cell_type": "code",
   "execution_count": 9,
   "source": [
    "torch.cat((a,b))"
   ],
   "outputs": [
    {
     "output_type": "execute_result",
     "data": {
      "text/plain": [
       "tensor([1., 2., 3., 4., 5., 6., 1.])"
      ]
     },
     "metadata": {},
     "execution_count": 9
    }
   ],
   "metadata": {}
  },
  {
   "cell_type": "code",
   "execution_count": 19,
   "source": [
    "e = torch.nn.Parameter(torch.randn(1), requires_grad=True)\n",
    "e2 = torch.nn.Parameter(torch.randn(1), requires_grad=True)\n",
    "e3 = torch.nn.Parameter(torch.randn(1), requires_grad=True)\n",
    "x = torch.randn(65)"
   ],
   "outputs": [],
   "metadata": {}
  },
  {
   "cell_type": "code",
   "execution_count": 16,
   "source": [
    "(e * x).shape"
   ],
   "outputs": [
    {
     "output_type": "execute_result",
     "data": {
      "text/plain": [
       "torch.Size([16, 65])"
      ]
     },
     "metadata": {},
     "execution_count": 16
    }
   ],
   "metadata": {}
  },
  {
   "cell_type": "code",
   "execution_count": 21,
   "source": [
    "torch.cat([e,e2,e3])"
   ],
   "outputs": [
    {
     "output_type": "execute_result",
     "data": {
      "text/plain": [
       "tensor([ 0.7192, -0.0276, -1.8518], grad_fn=<CatBackward>)"
      ]
     },
     "metadata": {},
     "execution_count": 21
    }
   ],
   "metadata": {}
  },
  {
   "cell_type": "code",
   "execution_count": null,
   "source": [
    "import json\n",
    "with open('pic/loss.json','w') as file_obj:\n",
    "        data = json.load(file_obj)"
   ],
   "outputs": [],
   "metadata": {}
  },
  {
   "cell_type": "code",
   "execution_count": null,
   "source": [
    "import torch\n",
    "criterition = torch.nn.MSELoss()"
   ],
   "outputs": [],
   "metadata": {}
  }
 ],
 "metadata": {
  "orig_nbformat": 4,
  "language_info": {
   "name": "python",
   "version": "3.9.5",
   "mimetype": "text/x-python",
   "codemirror_mode": {
    "name": "ipython",
    "version": 3
   },
   "pygments_lexer": "ipython3",
   "nbconvert_exporter": "python",
   "file_extension": ".py"
  },
  "kernelspec": {
   "name": "python3",
   "display_name": "Python 3.9.5 64-bit ('zz_torch': conda)"
  },
  "interpreter": {
   "hash": "38dd375d8b5dc79d09c5392763fc6751895ecd9b7fc9bc27bae6eb0a9e2b1751"
  }
 },
 "nbformat": 4,
 "nbformat_minor": 2
}