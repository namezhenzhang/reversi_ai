{
 "cells": [
  {
   "cell_type": "markdown",
   "source": [
    "以前曾经借助翻译软件看个大概，不对之处请多指正：\\\n",
    "Wthor文件分3种：\\\n",
    "对局库：WTH_2002.WTB，每年一期\\\n",
    "棋手库：WTHOR.JOU，记录各棋手的名字\\\n",
    "比赛库：WTHOR.TRN，记录各种比赛的名称\\\n",
    "3种文件的结构都很相似：16字节文件头+N条记录\\\n",
    "文件头结构：\\\n",
    "1字节 文件建立年份的百位部分，如20表示20**年\\\n",
    "1字节 文件建立年份的低2位\\\n",
    "1字节 文件建立的月份\\\n",
    "1字节 文件建立的日期\\\n",
    "4字节 N1，文件包含的记录数（这个是对局库用的）\\\n",
    "2字节 N2，文件包含的记录数（这个是棋手库和比赛库用的）\\\n",
    "2字节 对局年份\\\n",
    "1字节 P1，棋盘大小，0或8表示8*8\\\n",
    "1字节 P2，游戏类型，1表示solitaires游戏，0表示其他（包括黑白棋）\\\n",
    "1字节 P3，最佳终局计算的搜索深度，一般为22\\\n",
    "1字节 保留\\\n",
    "对局库记录结构，对于8*8黑白棋，每条记录68字节\\\n",
    "2字节 比赛名称，这里只是个序号，具体名称要查比赛库中的相应记录\\\n",
    "2字节 黑方棋手名字，这里只是个序号，具体名字要查棋手库\\\n",
    "2字节 白方棋手名字\\\n",
    "1字节 对局结束时黑方的棋子数（多余空格归胜方）\\\n",
    "1字节 黑方理论最佳得子，即在剩余P3个空格时，进行最佳终局计算，黑方的得子数\\\n",
    "60字节 棋步序列，每步棋一个字节，记为行号*10+列号，如A1=11，A2=21。欠行的步不作记录，只是将最后多余字节填0\\\n",
    "棋手库记录结构\\\n",
    "每条记录20字节，字符串类型（以 结尾），记录棋手名字。对于程序，一般用括号加注程序作者，如\\\n",
    "Thor(quin/becquet)\\\n",
    "比赛库记录结构\\\n",
    "每条记录26字节，字符串类型，记录比赛名称。\\"
   ],
   "metadata": {}
  },
  {
   "cell_type": "code",
   "execution_count": 2,
   "source": [
    "import json\n",
    "file_name = \"rewth/WTH_{}.wtb\"\n",
    "total = 0\n",
    "for file_year in range(2001,2016):\n",
    "    with open(file_name.format(file_year),\"rb\") as file_:\n",
    "        lines = file_.read()\n",
    "        \n",
    "    # print('year',int.from_bytes(lines[0:1], byteorder='little', signed=False))\n",
    "    # print('year',int.from_bytes(lines[1:2], byteorder='little', signed=True))\n",
    "    # print('month',int.from_bytes(lines[2:3], byteorder='little', signed=True))\n",
    "    # print('day',int.from_bytes(lines[3:4], byteorder='little', signed=True))\n",
    "    print(file_year,'record_num',int.from_bytes(lines[4:8], byteorder='little', signed=True))\n",
    "    # print('0|',int.from_bytes(lines[8:10], byteorder='little', signed=True))\n",
    "    # print('year',int.from_bytes(lines[10:12], byteorder='little', signed=True))\n",
    "    # print('0or8|',int.from_bytes(lines[12:13], byteorder='little', signed=True))\n",
    "    # print('0|',int.from_bytes(lines[13:14], byteorder='little', signed=True))\n",
    "    # print('deep',int.from_bytes(lines[14:15], byteorder='little', signed=True))\n",
    "    # print('reserve',int.from_bytes(lines[15:16], byteorder='little', signed=True))\n",
    "    record_num=int.from_bytes(lines[4:8], byteorder='little', signed=True)\n",
    "    total += record_num\n",
    "    dataset = []\n",
    "    for record_idx in range(record_num):\n",
    "        start_idx = 16+record_idx*68\n",
    "        name = lines[start_idx:start_idx+6]\n",
    "        int.from_bytes(lines[start_idx+7:start_idx+8], byteorder='little', signed=True)\n",
    "        # print(lines[start_idx+6:start_idx+7])\n",
    "        black_chess_num = int.from_bytes(lines[start_idx+6:start_idx+7], byteorder='little', signed=True)\n",
    "        if black_chess_num>32:\n",
    "            who_win = 0\n",
    "        elif black_chess_num<32:\n",
    "            who_win = 1\n",
    "        else:  \n",
    "            who_win = 2\n",
    "        black_chess_num_theory = int.from_bytes(lines[start_idx+7:start_idx+8], byteorder='little', signed=True)\n",
    "        moves =[int.from_bytes(lines[start_idx+8+i:start_idx+8+i+1], byteorder='little', signed=True) for i in range(60)]\n",
    "        # moves = lines[start_idx+8:start_idx+68]\n",
    "        dataset.append({'black_chess_num':black_chess_num,\n",
    "                        'black_chess_num_theory':black_chess_num_theory,\n",
    "                        'who_win':who_win,\n",
    "                        'moves':moves})\n",
    "    output_filename = 'rewth/{}.json'                  \n",
    "    with open(output_filename.format(file_year),'w') as file_obj:\n",
    "        json.dump(dataset,file_obj)\n",
    "# print(dataset)\n",
    "print(total)\n"
   ],
   "outputs": [
    {
     "output_type": "stream",
     "name": "stdout",
     "text": [
      "2001 record_num 5575\n",
      "2002 record_num 5423\n",
      "2003 record_num 3858\n",
      "2004 record_num 9113\n",
      "2005 record_num 4199\n",
      "2006 record_num 2942\n",
      "2007 record_num 2478\n",
      "2008 record_num 2232\n",
      "2009 record_num 4348\n",
      "2010 record_num 2172\n",
      "2011 record_num 1891\n",
      "2012 record_num 2208\n",
      "2013 record_num 2396\n",
      "2014 record_num 1817\n",
      "2015 record_num 1789\n",
      "52441\n"
     ]
    }
   ],
   "metadata": {}
  },
  {
   "cell_type": "code",
   "execution_count": 38,
   "source": [
    "print(total)"
   ],
   "outputs": [
    {
     "output_type": "stream",
     "name": "stdout",
     "text": [
      "52441\n"
     ]
    }
   ],
   "metadata": {}
  },
  {
   "cell_type": "code",
   "execution_count": 3,
   "source": [
    "import json\n",
    "\n",
    "\n",
    "record = []\n",
    "for file_year in range(2001,2016):\n",
    "    with open(output_filename.format(file_year),'r') as file_obj:\n",
    "        record += json.load(file_obj)    \n",
    "print(len(record)) \n",
    "with open('rewth/2001-2015.json','w') as file_obj:\n",
    "    json.dump(record,file_obj)\n",
    "    \n"
   ],
   "outputs": [
    {
     "output_type": "stream",
     "name": "stdout",
     "text": [
      "52441\n"
     ]
    }
   ],
   "metadata": {}
  },
  {
   "cell_type": "code",
   "execution_count": 4,
   "source": [
    "with open('rewth/2001-2015.json','r') as file_obj:\n",
    "    record = json.load(file_obj)\n",
    "dataset = { 'black_chess_num':[],\n",
    "            'black_chess_num_theory':[],\n",
    "            'who_win':[],\n",
    "            'moves':[]\n",
    "            }\n",
    "print(len(record))\n",
    "for i in record:\n",
    "    dataset['black_chess_num'].append(i[\"black_chess_num\"])\n",
    "    dataset['black_chess_num_theory'].append(i[\"black_chess_num_theory\"])\n",
    "    dataset['who_win'].append(i['who_win'])\n",
    "    dataset['moves'].append(i['moves'])\n",
    "print(len(dataset['who_win']))\n",
    "with open('rewth/2001-2015_dataset.json','w') as file_obj:\n",
    "    json.dump(dataset,file_obj)"
   ],
   "outputs": [
    {
     "output_type": "stream",
     "name": "stdout",
     "text": [
      "52441\n",
      "52441\n"
     ]
    }
   ],
   "metadata": {}
  },
  {
   "cell_type": "code",
   "execution_count": 5,
   "source": [
    "import json\n",
    "with open('rewth/2001-2015_dataset.json','r') as file_obj:\n",
    "    data = json.load(file_obj)\n",
    "count = 0\n",
    "for idx,i in enumerate(data['moves']):\n",
    "    if 0 in i:\n",
    "        # print(i,data['black_chess_num'][idx])\n",
    "        count += 1\n",
    "print(data['moves'][0])\n",
    "print(len(data['moves']))\n",
    "print(count)"
   ],
   "outputs": [
    {
     "output_type": "stream",
     "name": "stdout",
     "text": [
      "[56, 64, 53, 46, 35, 63, 34, 66, 65, 74, 37, 43, 57, 33, 76, 24, 75, 26, 83, 36, 73, 38, 25, 16, 14, 15, 17, 47, 13, 68, 48, 58, 52, 28, 67, 23, 12, 61, 32, 42, 31, 86, 51, 41, 27, 84, 85, 82, 71, 18, 72, 11, 21, 22, 62, 81, 77, 78, 88, 87]\n",
      "52441\n",
      "2340\n"
     ]
    }
   ],
   "metadata": {}
  },
  {
   "cell_type": "code",
   "execution_count": 6,
   "source": [
    "def two2_(idx):\n",
    "    if idx==1:\n",
    "        return '1'\n",
    "    elif idx==2:\n",
    "        return '.'\n",
    "    elif idx==0:\n",
    "        return '0'"
   ],
   "outputs": [],
   "metadata": {}
  },
  {
   "cell_type": "code",
   "execution_count": 9,
   "source": [
    "ffrom src.utils import *\n",
    "import json\n",
    "from tqdm import tqdm\n",
    "with open('rewth/2001-2015_dataset.json','r') as file_obj:\n",
    "    data = json.load(file_obj)\n",
    "init_board = [\n",
    "            2,2,2,2,2,2,2,2,\n",
    "            2,2,2,2,2,2,2,2,\n",
    "            2,2,2,2,2,2,2,2,\n",
    "            2,2,2,1,0,2,2,2,\n",
    "            2,2,2,0,1,2,2,2,\n",
    "            2,2,2,2,2,2,2,2,\n",
    "            2,2,2,2,2,2,2,2,\n",
    "            2,2,2,2,2,2,2,2\n",
    "        ]  \n",
    "dataset = {'board':[],'next_step_id':[],'turn':[],'black_chess_num':[]}\n",
    "for idx,chessbook in enumerate(tqdm(data['moves'])):\n",
    "\n",
    "    # chessbook = data['moves'][1000]\n",
    "    black_chess_num = data['black_chess_num'][idx]\n",
    "    turn = 0\n",
    "    now_board = init_board\n",
    "    for idx,step in enumerate(chessbook):\n",
    "        # if step == 11:\n",
    "        #     print(11)\n",
    "        if step == 0:\n",
    "            break\n",
    "        x = step%10 -1\n",
    "        y = step//10 -1\n",
    "        id = xy2id((x,y))\n",
    "        \n",
    "        # n_step = chessbook[idx+1]\n",
    "        # if n_step==0:\n",
    "        #     break\n",
    "        # n_x = n_step%10 -1\n",
    "        # n_y = n_step//10 -1\n",
    "        # n_id = xy2id((n_x,n_y))\n",
    "        next_pos = ask_next_pos(now_board,turn,need_id = True)\n",
    "        if len(next_pos) == 0:\n",
    "            turn = 0 if turn==1 else 1\n",
    "            next_pos = ask_next_pos(now_board,turn,need_id = True)\n",
    "            assert len(next_pos) !=0 , 'turn wrong'\n",
    "            \n",
    "        dataset['board'].append(now_board.copy())\n",
    "        dataset['next_step_id'].append(id)\n",
    "        dataset['turn'].append(turn)\n",
    "        dataset['black_chess_num'].append(black_chess_num) \n",
    "          \n",
    "        next_board = get_next_step_board(now_board,turn,id)\n",
    "        now_board = next_board.copy()\n",
    "        # next_board = list(map(two2_,next_board))\n",
    "        # print(next_board[0:8])\n",
    "        # print(next_board[8:16])\n",
    "        # print(next_board[16:24])\n",
    "        # print(next_board[24:32])\n",
    "        # print(next_board[32:40])\n",
    "        # print(next_board[40:48])\n",
    "        # print(next_board[48:56])\n",
    "        # print(next_board[56:64])\n",
    "        # print('\\n')\n",
    "        if len(next_pos) >0:\n",
    "            turn = 0 if turn==1 else 1\n",
    "with open('rewth/2001-2015_dataset_board.json','w') as file_obj:\n",
    "    json.dump(dataset,file_obj)"
   ],
   "outputs": [
    {
     "output_type": "stream",
     "name": "stderr",
     "text": [
      "100%|██████████| 52441/52441 [07:49<00:00, 111.77it/s]\n"
     ]
    }
   ],
   "metadata": {}
  },
  {
   "cell_type": "code",
   "execution_count": 3,
   "source": [
    "import json\n",
    "with open('rewth/2001-2015_dataset_board.json','r') as file_obj:\n",
    "    data = json.load(file_obj)"
   ],
   "outputs": [],
   "metadata": {}
  },
  {
   "cell_type": "code",
   "execution_count": null,
   "source": [],
   "outputs": [],
   "metadata": {}
  }
 ],
 "metadata": {
  "orig_nbformat": 4,
  "language_info": {
   "name": "python",
   "version": "3.9.5",
   "mimetype": "text/x-python",
   "codemirror_mode": {
    "name": "ipython",
    "version": 3
   },
   "pygments_lexer": "ipython3",
   "nbconvert_exporter": "python",
   "file_extension": ".py"
  },
  "kernelspec": {
   "name": "python3",
   "display_name": "Python 3.9.5 64-bit ('zz_torch': conda)"
  },
  "interpreter": {
   "hash": "38dd375d8b5dc79d09c5392763fc6751895ecd9b7fc9bc27bae6eb0a9e2b1751"
  }
 },
 "nbformat": 4,
 "nbformat_minor": 2
}