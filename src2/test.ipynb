{
 "cells": [
  {
   "cell_type": "code",
   "execution_count": 1,
   "source": [
    "from utils import *\n",
    "a = [0,1,2]\n",
    "b = convert_chessbook(1,a)\n",
    "c = convert_chessbook(0,a)\n",
    "print(b,c)"
   ],
   "outputs": [
    {
     "output_type": "stream",
     "name": "stdout",
     "text": [
      "[-1, 1, 0] [1, -1, 0]\n"
     ]
    }
   ],
   "metadata": {}
  },
  {
   "cell_type": "code",
   "execution_count": 5,
   "source": [
    "import torch\n",
    "\n",
    "a = torch.Tensor([0,0.5,1])\n",
    "b = list(a)\n",
    "b.index(1)"
   ],
   "outputs": [
    {
     "output_type": "execute_result",
     "data": {
      "text/plain": [
       "2"
      ]
     },
     "metadata": {},
     "execution_count": 5
    }
   ],
   "metadata": {}
  },
  {
   "cell_type": "markdown",
   "source": [
    "87 909 5444 348416 0.0159808963997061 0.16697281410727408"
   ],
   "metadata": {}
  },
  {
   "cell_type": "code",
   "execution_count": 5,
   "source": [
    "import torchvision.models as models\n",
    "import torch\n",
    "resnet18 = models.resnet18()\n",
    "\n",
    "num_ftrs = resnet18.fc.in_features\n",
    "resnet18.fc = torch.nn.Linear(num_ftrs, 64)\n",
    "a = torch.randn((1,3,224,224))\n",
    "print(resnet18(a))"
   ],
   "outputs": [
    {
     "output_type": "stream",
     "name": "stderr",
     "text": [
      "/home/hushengding/miniconda3/envs/zz_torch/lib/python3.9/site-packages/torch/nn/functional.py:718: UserWarning: Named tensors and all their associated APIs are an experimental feature and subject to change. Please do not use them for anything important until they are released as stable. (Triggered internally at  /opt/conda/conda-bld/pytorch_1623448255797/work/c10/core/TensorImpl.h:1156.)\n",
      "  return torch.max_pool2d(input, kernel_size, stride, padding, dilation, ceil_mode)\n"
     ]
    },
    {
     "output_type": "stream",
     "name": "stdout",
     "text": [
      "tensor([[-0.2741,  0.3170, -0.1098,  0.2044, -0.0969, -0.0209, -0.2437, -0.6295,\n",
      "         -0.2552, -0.6051, -0.6069, -0.1217,  0.2899, -0.5663, -0.0949, -0.6005,\n",
      "         -0.8893,  0.2132,  0.3022, -0.4728,  0.4237, -0.5052,  0.4978,  0.0381,\n",
      "         -0.2117, -0.0830, -0.7798, -0.7842, -0.1082,  0.1034,  0.2721,  0.2737,\n",
      "         -0.1093, -0.5464, -0.6173, -0.2059, -0.0361, -0.6415,  0.7433, -0.2627,\n",
      "          0.0723,  0.4901, -0.0351,  0.0855, -0.3291, -0.0392,  2.0783,  0.1550,\n",
      "         -0.2957, -0.4687,  0.1329, -0.0907,  0.2301, -0.0820,  0.8046,  0.5433,\n",
      "         -0.5087, -0.4474,  0.0692, -0.4514,  0.6898,  0.0185,  0.3072, -0.3641]],\n",
      "       grad_fn=<AddmmBackward>)\n"
     ]
    }
   ],
   "metadata": {}
  },
  {
   "cell_type": "code",
   "execution_count": 25,
   "source": [
    "def trans_chessbook_to_input(x):\n",
    "    a = torch.Tensor(x).view(8,8)\n",
    "    i_list = []\n",
    "    for i in range(8):\n",
    "        j_list = []\n",
    "        for j in range(8):\n",
    "            b = torch.cat([a[i,j].unsqueeze(0)]*28)\n",
    "            c = torch.stack([b]*28,dim = 1)\n",
    "            j_list.append(c)\n",
    "        i_list.append(torch.cat(j_list,dim = 1))\n",
    "    d = torch.cat(i_list,dim=0)\n",
    "    print(d.shape)\n",
    "    input = torch.stack((d,d,d),dim = 0).unsqueeze(0)\n",
    "    return input"
   ],
   "outputs": [
    {
     "output_type": "stream",
     "name": "stdout",
     "text": [
      "torch.Size([224, 224])\n"
     ]
    }
   ],
   "metadata": {}
  },
  {
   "cell_type": "code",
   "execution_count": 26,
   "source": [
    "print(input.shape)"
   ],
   "outputs": [
    {
     "output_type": "stream",
     "name": "stdout",
     "text": [
      "torch.Size([1, 3, 224, 224])\n"
     ]
    }
   ],
   "metadata": {}
  },
  {
   "cell_type": "code",
   "execution_count": null,
   "source": [],
   "outputs": [],
   "metadata": {}
  }
 ],
 "metadata": {
  "orig_nbformat": 4,
  "language_info": {
   "name": "python",
   "version": "3.9.5",
   "mimetype": "text/x-python",
   "codemirror_mode": {
    "name": "ipython",
    "version": 3
   },
   "pygments_lexer": "ipython3",
   "nbconvert_exporter": "python",
   "file_extension": ".py"
  },
  "kernelspec": {
   "name": "python3",
   "display_name": "Python 3.9.5 64-bit ('zz_torch': conda)"
  },
  "interpreter": {
   "hash": "38dd375d8b5dc79d09c5392763fc6751895ecd9b7fc9bc27bae6eb0a9e2b1751"
  }
 },
 "nbformat": 4,
 "nbformat_minor": 2
}